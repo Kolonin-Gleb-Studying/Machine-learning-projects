{
  "nbformat": 4,
  "nbformat_minor": 0,
  "metadata": {
    "colab": {
      "name": "news-classificator.ipynb",
      "provenance": [],
      "collapsed_sections": [],
      "authorship_tag": "ABX9TyPdqwukx9FrOPhNQ0bYfuzd",
      "include_colab_link": true
    },
    "kernelspec": {
      "name": "python3",
      "display_name": "Python 3"
    },
    "language_info": {
      "name": "python"
    }
  },
  "cells": [
    {
      "cell_type": "markdown",
      "metadata": {
        "id": "view-in-github",
        "colab_type": "text"
      },
      "source": [
        "<a href=\"https://colab.research.google.com/github/Kolonin-Gleb/Machine-learning-projects/blob/news-classificator-BOW/news_classificator.ipynb\" target=\"_parent\"><img src=\"https://colab.research.google.com/assets/colab-badge.svg\" alt=\"Open In Colab\"/></a>"
      ]
    },
    {
      "cell_type": "markdown",
      "metadata": {
        "id": "eabrzv1GSX_C"
      },
      "source": [
        "#Классификация новостей на структуре нейросети BOW"
      ]
    },
    {
      "cell_type": "code",
      "metadata": {
        "id": "pMMyTaLOOD8J"
      },
      "source": [
        "# Для нейросети\n",
        "\n",
        "from tensorflow.keras import utils # Для работы с категориальными данными\n",
        "from tensorflow.keras.models import Sequential # Полносвязная модель\n",
        "from tensorflow.keras.layers import Dense, Dropout, BatchNormalization, Flatten, Activation # Слои для сети\n",
        "from tensorflow.keras.preprocessing.text import Tokenizer # Методы для работы с текстами\n",
        "from tensorflow.keras.preprocessing.sequence import pad_sequences # Метод для работы с последовательностями\n",
        "\n",
        "import numpy as np # Для работы с данными \n",
        "import matplotlib.pyplot as plt # Для вывода графиков\n",
        "import os # Для работы с файлами\n",
        "%matplotlib inline\n",
        "\n",
        "from google.colab import files # Для работы с файлами \n",
        "from google.colab import drive # Для работы с Google Drive"
      ],
      "execution_count": 44,
      "outputs": []
    },
    {
      "cell_type": "code",
      "source": [
        "# Удаление датасета из среды (если есть датасет)\n",
        "!rm -rf /content/news.zip"
      ],
      "metadata": {
        "id": "ZLi50-QAAmXJ"
      },
      "execution_count": 45,
      "outputs": []
    },
    {
      "cell_type": "code",
      "metadata": {
        "id": "X1RFI-WFSMbV",
        "outputId": "078e6a1b-fe99-45f1-ac60-d949c1abeddb",
        "colab": {
          "base_uri": "https://localhost:8080/"
        }
      },
      "source": [
        "# Скачивание архива датасета с GitHub репозитория\n",
        "!wget https://github.com/Kolonin-Gleb/Machine-learning-projects/blob/news-classificator-BOW/news.zip?raw=true"
      ],
      "execution_count": 46,
      "outputs": [
        {
          "output_type": "stream",
          "name": "stdout",
          "text": [
            "--2021-12-17 13:53:18--  https://github.com/Kolonin-Gleb/Machine-learning-projects/blob/news-classificator-BOW/news.zip?raw=true\n",
            "Resolving github.com (github.com)... 140.82.114.3\n",
            "Connecting to github.com (github.com)|140.82.114.3|:443... connected.\n",
            "HTTP request sent, awaiting response... 302 Found\n",
            "Location: https://github.com/Kolonin-Gleb/Machine-learning-projects/raw/news-classificator-BOW/news.zip [following]\n",
            "--2021-12-17 13:53:19--  https://github.com/Kolonin-Gleb/Machine-learning-projects/raw/news-classificator-BOW/news.zip\n",
            "Reusing existing connection to github.com:443.\n",
            "HTTP request sent, awaiting response... 302 Found\n",
            "Location: https://raw.githubusercontent.com/Kolonin-Gleb/Machine-learning-projects/news-classificator-BOW/news.zip [following]\n",
            "--2021-12-17 13:53:19--  https://raw.githubusercontent.com/Kolonin-Gleb/Machine-learning-projects/news-classificator-BOW/news.zip\n",
            "Resolving raw.githubusercontent.com (raw.githubusercontent.com)... 185.199.111.133, 185.199.109.133, 185.199.108.133, ...\n",
            "Connecting to raw.githubusercontent.com (raw.githubusercontent.com)|185.199.111.133|:443... connected.\n",
            "HTTP request sent, awaiting response... 200 OK\n",
            "Length: 3477089 (3.3M) [application/zip]\n",
            "Saving to: ‘news.zip?raw=true.1’\n",
            "\n",
            "news.zip?raw=true.1 100%[===================>]   3.32M  --.-KB/s    in 0.07s   \n",
            "\n",
            "2021-12-17 13:53:19 (47.9 MB/s) - ‘news.zip?raw=true.1’ saved [3477089/3477089]\n",
            "\n"
          ]
        }
      ]
    },
    {
      "cell_type": "code",
      "source": [
        "# Распаковка архива в пространство Colab\n",
        "!unzip -q '/content/news.zip?raw=true' -d /content/"
      ],
      "metadata": {
        "id": "Pj3wgfouCbaY",
        "outputId": "807cd32c-a1ce-4df3-a8ff-95707cf7a1d2",
        "colab": {
          "base_uri": "https://localhost:8080/"
        }
      },
      "execution_count": 47,
      "outputs": [
        {
          "output_type": "stream",
          "name": "stdout",
          "text": [
            "replace /content/news/Политика Обучающая.txt? [y]es, [n]o, [A]ll, [N]one, [r]ename: y\n",
            "replace /content/news/Политика Проверочная.txt? [y]es, [n]o, [A]ll, [N]one, [r]ename: y\n",
            "replace /content/news/Политика Тестовая.txt? [y]es, [n]o, [A]ll, [N]one, [r]ename: a\n",
            "error:  invalid response [a]\n",
            "replace /content/news/Политика Тестовая.txt? [y]es, [n]o, [A]ll, [N]one, [r]ename: y\n",
            "replace /content/news/Спорт Обучающая.txt? [y]es, [n]o, [A]ll, [N]one, [r]ename: y\n",
            "replace /content/news/Спорт Проверочная.txt? [y]es, [n]o, [A]ll, [N]one, [r]ename: y\n",
            "replace /content/news/Спорт Тестовая.txt? [y]es, [n]o, [A]ll, [N]one, [r]ename: y\n",
            "replace /content/news/Технологии Обучающая.txt? [y]es, [n]o, [A]ll, [N]one, [r]ename: y\n",
            "replace /content/news/Технологии Проверочная.txt? [y]es, [n]o, [A]ll, [N]one, [r]ename: y\n",
            "replace /content/news/Технологии Тестовая.txt? [y]es, [n]o, [A]ll, [N]one, [r]ename: y\n"
          ]
        }
      ]
    },
    {
      "cell_type": "code",
      "metadata": {
        "id": "WVm8mZHySPRo"
      },
      "source": [
        "# Функция для загрузки файла\n",
        "def loadText(fileName):\n",
        "  f = open(fileName, 'r') # Открываем файл в режиме чтения\n",
        "  text = f.read()         # Читаем текст\n",
        "  text = text.replace(\"\\n\", \" \") # Заменяем переносы строк на пробелы\n",
        "  text = text.replace(\"\\r\", \" \") # Заменяем переносы строк на пробелы\n",
        "  text = text.replace(\"\\t\", \" \") # Заменяем табуляции на пробелы\n",
        "  f.close()\n",
        "  \n",
        "  return text\n",
        "\n",
        "labels = [\"Политика\", \"Спорт\", \"Технологии\"] # Классифицируемые новости\n",
        "labelsNum = len(labels) # Количество классифицируемых групп"
      ],
      "execution_count": 48,
      "outputs": []
    },
    {
      "cell_type": "code",
      "metadata": {
        "colab": {
          "base_uri": "https://localhost:8080/"
        },
        "id": "8syRaAZYSQdo",
        "outputId": "ede01b1d-2122-46b7-dc6e-d0526f242d2c"
      },
      "source": [
        "# Загружаем тексты из обучающей и тренировочной выборок\n",
        "\n",
        "trainText = [] # Обучающие тексты\n",
        "testText = []  # Тестовые тексты\n",
        "\n",
        "fileList = os.listdir('news/') # Получаем список всех файлов\n",
        "for label in labels:\n",
        "  for file in fileList:\n",
        "    if label in file: # Проверяем, содержит ли файл j в названии имя класса i\n",
        "      if 'Обучающая' in file: # Если в имени найденного класса есть строка \"Обучающая\" \n",
        "        trainText.append(loadText('news/' + file)) #добавляем в обучающую выборку\n",
        "        print(file, 'добавлен в обучающую выборку')\n",
        "      if 'Тестовая' in file: # Если в имени найденного класса есть строка \"Тестовая\"\n",
        "        testText.append(loadText('news/' + file)) # Добавляем в обучающую выборку\n",
        "        print(file, 'добавлен в тестовую выборку')"
      ],
      "execution_count": 49,
      "outputs": [
        {
          "output_type": "stream",
          "name": "stdout",
          "text": [
            "Политика Тестовая.txt добавлен в тестовую выборку\n",
            "Политика Обучающая.txt добавлен в обучающую выборку\n",
            "Спорт Обучающая.txt добавлен в обучающую выборку\n",
            "Спорт Тестовая.txt добавлен в тестовую выборку\n",
            "Технологии Обучающая.txt добавлен в обучающую выборку\n",
            "Технологии Тестовая.txt добавлен в тестовую выборку\n"
          ]
        }
      ]
    },
    {
      "cell_type": "code",
      "metadata": {
        "colab": {
          "base_uri": "https://localhost:8080/"
        },
        "id": "SJWQujLgSTH4",
        "outputId": "66d3c658-6851-4cc3-f8c1-6a3b158afeaf"
      },
      "source": [
        "print(\"Количество загруженных обучающих текстов:\", len(trainText))\n",
        "print(\"Количество загруженных тестовых текстов:\", len(testText))"
      ],
      "execution_count": 50,
      "outputs": [
        {
          "output_type": "stream",
          "name": "stdout",
          "text": [
            "Количество загруженных обучающих текстов: 3\n",
            "Количество загруженных тестовых текстов: 3\n"
          ]
        }
      ]
    },
    {
      "cell_type": "code",
      "metadata": {
        "colab": {
          "base_uri": "https://localhost:8080/"
        },
        "id": "Yvo1ahD32QbM",
        "outputId": "6cfdf6ed-1831-4e48-e405-247610d49b9d"
      },
      "source": [
        "# Примеры содержимого в тренировочных текстах\n",
        "print(trainText[0][:100])\n",
        "print(trainText[1][:100])\n",
        "print(trainText[2][:100])\n",
        "\n",
        "print(\"\\n\")\n",
        "\n",
        "# Примеры содержимого в проверочных текстах\n",
        "print(testText[0][:100])\n",
        "print(testText[1][:100])\n",
        "print(testText[2][:100])"
      ],
      "execution_count": 51,
      "outputs": [
        {
          "output_type": "stream",
          "name": "stdout",
          "text": [
            "   политика Россия Украина Сирия Европа США аналитика война Путин  В правительстве Украины заявили о\n",
            "   Делимся впечатлениями от игры сборной  Матыцин назвал суммы премиальных, которые получат наши мед\n",
            " Софт и игры Обзор Part Time UFO: подработка инопланетянином от создателей Kirby   Битва ассистентов\n",
            "\n",
            "\n",
            "﻿  политика Россия Украина Сирия Европа США аналитика война Путин  Цитату Байдена о \"великом негре\" \n",
            " Ловите состав сборной на октябрьские матчи отбора ЧМ-2022.  Кто лишний? Кого не хватает? Сергей Пло\n",
            "  Новинка, сочетающая в себе огромную батарею на 6000 мАч, камеру на 64 Мп и современный дизайн за в\n"
          ]
        }
      ]
    },
    {
      "cell_type": "markdown",
      "metadata": {
        "id": "mql0xJubTn0K"
      },
      "source": [
        "Токенизируем тексты"
      ]
    },
    {
      "cell_type": "code",
      "metadata": {
        "id": "Hz_H3DpvSTiV"
      },
      "source": [
        "numWords = 20000 # Количество слов/индексов, которое мы будем учитывать при обучении\n",
        "\n",
        "# Tokenizer - встроенная в Keras функция для разбиения текста и превращения\n",
        "# в слов в числовые значения с учётом частотности\n",
        "\n",
        "# num_words - максимальное количество слов/индексов, учитываемое при составлении словаря\n",
        "# filters - список ненужных символов, которые будут удалены из текстов\n",
        "# lower - приведение слов к нижнему регистру\n",
        "# split - разделитель между словами\n",
        "# oov_token - на какое слово будем заменять слова, которые выше по частоте, чем numWords\n",
        "# char_level - просим токенайзер не удалять однобуквенные слова\n",
        "\n",
        "tokenizer = Tokenizer(num_words=numWords,\n",
        "                      filters='!\"#$%&()*+,-–—./…:;<=>?@[\\\\]^_`{|}~«»\\t\\n\\xa0\\ufeff',\n",
        "                      lower=True,\n",
        "                      split=' ',\n",
        "                      oov_token='unknown',\n",
        "                      char_level=False)\n",
        "\n",
        "tokenizer.fit_on_texts(trainText) # Cоберем словарь частотности\n",
        "items = list(tokenizer.word_index.items()) # Получаем индексы слов"
      ],
      "execution_count": 52,
      "outputs": []
    },
    {
      "cell_type": "code",
      "metadata": {
        "colab": {
          "base_uri": "https://localhost:8080/"
        },
        "id": "W2cjbq8QTq4x",
        "outputId": "0a8ba815-5331-40cb-a721-dc6fb0e43204"
      },
      "source": [
        "print(\"Самые часто встречающиеся слова:\")\n",
        "print(items[:10]) # Самые часто встречающиеся слова\n",
        "print()\n",
        "print(\"Самые редко встречающиеся слова:\")\n",
        "print(items[-10:])\n",
        "print()\n",
        "print(\"Размер словаря:\", len(items))"
      ],
      "execution_count": 53,
      "outputs": [
        {
          "output_type": "stream",
          "name": "stdout",
          "text": [
            "Самые часто встречающиеся слова:\n",
            "[('unknown', 1), ('в', 2), ('и', 3), ('на', 4), ('с', 5), ('не', 6), ('что', 7), ('по', 8), ('за', 9), ('для', 10)]\n",
            "\n",
            "Самые редко встречающиеся слова:\n",
            "[('ming', 69837), ('chi', 69838), ('kuo', 69839), ('исчезут', 69840), ('начальную', 69841), ('воссоздали', 69842), ('sanktperkele', 69843), ('встроенного', 69844), ('достоверно', 69845), ('подошёл', 69846)]\n",
            "\n",
            "Размер словаря: 69846\n"
          ]
        }
      ]
    },
    {
      "cell_type": "code",
      "metadata": {
        "id": "b_F4JI6PTtRr"
      },
      "source": [
        "# # Тестирование словаря\n",
        "# inputWord = input(\"Введите слово: \")\n",
        "# print(\"Индекс слова\", inputWord, \":\", tokenizer.word_index[inputWord])"
      ],
      "execution_count": 54,
      "outputs": []
    },
    {
      "cell_type": "code",
      "metadata": {
        "id": "Y-jrGYijTvW-"
      },
      "source": [
        "# Преобразовываем текст в последовательность индексов согласно частотному словарю\n",
        "trainWordIndexes = tokenizer.texts_to_sequences(trainText)\n",
        "testWordIndexes = tokenizer.texts_to_sequences(testText)"
      ],
      "execution_count": 55,
      "outputs": []
    },
    {
      "cell_type": "code",
      "metadata": {
        "colab": {
          "base_uri": "https://localhost:8080/"
        },
        "id": "xwmsXKiMTxAR",
        "outputId": "38ea024e-f997-4ea5-b4b2-c36b6899b27b"
      },
      "source": [
        "# Проверим преобразование\n",
        "print(\"Фрагмент обучающего текста:\")\n",
        "print(\"В виде оригинального текста:              \", trainText[2][:23])\n",
        "print(\"Он же в виде последовательности индексов: \", trainWordIndexes[0][:5], '\\n')\n",
        "\n",
        "# Почему выводим кол. индексов меньшее кол. символов в ориг. тексте?"
      ],
      "execution_count": 56,
      "outputs": [
        {
          "output_type": "stream",
          "name": "stdout",
          "text": [
            "Фрагмент обучающего текста:\n",
            "В виде оригинального текста:                Софт и игры Обзор Part\n",
            "Он же в виде последовательности индексов:  [143, 49, 99, 164, 136] \n",
            "\n"
          ]
        }
      ]
    },
    {
      "cell_type": "code",
      "metadata": {
        "colab": {
          "base_uri": "https://localhost:8080/"
        },
        "id": "pImWmiMDTzNG",
        "outputId": "1c90df15-0574-422f-828a-3b4008517828"
      },
      "source": [
        "print(\"Статистика по обучающим текстам:\")\n",
        "\n",
        "symbolsTrainText = 0 # Объявляем переменную для подсчета символов в обучающих текстах\n",
        "wordsTrainText = 0 # Объявляем переменную для подсчета слов в обучающих текстах\n",
        "\n",
        "for i in range(labelsNum): # Проходим по всем классам\n",
        "  print(labels[i], \" \"*(10-len(labels[i])), len(trainText[i]), \"символов, \", len(trainWordIndexes[i]), \"слов\")\n",
        "  symbolsTrainText += len(trainText[i]) # Считаем символы\n",
        "  wordsTrainText += len(trainWordIndexes[i]) # Считаем слова \n",
        "\n",
        "print('----')\n",
        "print(\"В сумме \", symbolsTrainText, \" символов, \", wordsTrainText, \" слов \\n\")\n",
        "print()\n",
        "print(\"Статистика по тестовым текстам:\")\n",
        "\n",
        "symbolsTestText = 0 # Объявляем переменную для подсчета символов в тестовых текстах\n",
        "wordsTestText = 0 # Объявляем переменную для подсчета слов в тестовых текстах\n",
        "\n",
        "for i in range(labelsNum): # Проходим по всем классам\n",
        "  print(labels[i], ' '*(10-len(labels[i])), len(testText[i]), \"символов, \", len(testWordIndexes[i]), \"слов\")\n",
        "  symbolsTestText += len(testText[i]) # Считаем символы\n",
        "  wordsTestText += len(testWordIndexes[i]) # Считаем слова \n",
        "print('----')\n",
        "print(\"В сумме \", symbolsTestText, \" символов, \", wordsTestText, \" слов\")"
      ],
      "execution_count": 57,
      "outputs": [
        {
          "output_type": "stream",
          "name": "stdout",
          "text": [
            "Статистика по обучающим текстам:\n",
            "Политика    1744978 символов,  238065 слов\n",
            "Спорт       1808908 символов,  262022 слов\n",
            "Технологии  1779783 символов,  253146 слов\n",
            "----\n",
            "В сумме  5333669  символов,  753233  слов \n",
            "\n",
            "\n",
            "Статистика по тестовым текстам:\n",
            "Политика    197551 символов,  26851 слов\n",
            "Спорт       169031 символов,  24435 слов\n",
            "Технологии  186296 символов,  26250 слов\n",
            "----\n",
            "В сумме  552878  символов,  77536  слов\n"
          ]
        }
      ]
    },
    {
      "cell_type": "markdown",
      "metadata": {
        "id": "04S-OodLX8cK"
      },
      "source": [
        "Создание xTrain и xTest"
      ]
    },
    {
      "cell_type": "code",
      "metadata": {
        "id": "DNBmecx6T1tV"
      },
      "source": [
        "# Формирование обучающей выборки по листу индексов слов\n",
        "# путем разделения на короткие векторы\n",
        "# wordIndexes - массив индексов\n",
        "# xLen - размер окна\n",
        "# step - шаг окна\n",
        "def getSetFromIndexes(wordIndexes, xLen, step):\n",
        "  xText = []\n",
        "  wordsLen = len(wordIndexes) # Считаем количество слов\n",
        "  index = 0 # Задаем начальный индекс \n",
        "\n",
        "  while (index + xLen <= wordsLen): # Идём по всей длине вектора индексов\n",
        "    xText.append(wordIndexes[index:index+xLen]) # \"Откусываем\" векторы длины xLen\n",
        "    index += step # Смещаеммся вперёд на step\n",
        "    \n",
        "  return xText\n",
        "\n",
        "\n",
        "# Формирование обучающей и проверочной выборки для каждого класса\n",
        "# wordIndexes - массив индексов\n",
        "# xLen - размер окна\n",
        "# step - шаг окна\n",
        "def createSetsMultiClasses(wordIndexes, xLen, step): # Функция принимает последовательность индексов, размер окна, шаг окна\n",
        "  nClasses = len(wordIndexes) # Количество классов\n",
        "  classesXSamples = []        # Здесь будет список размером \"кол-во классов*кол-во окон в тексте*длину окна (например, 6 по 1341*1000)\"\n",
        "  for wI in wordIndexes:      # Для каждого текста выборки из последовательности индексов\n",
        "    classesXSamples.append(getSetFromIndexes(wI, xLen, step))\n",
        "\n",
        "  # Формируем один общий xSamples\n",
        "  xSamples = []\n",
        "  ySamples = []\n",
        "  \n",
        "  for t in range(nClasses):\n",
        "    xT = classesXSamples[t]\n",
        "    for i in range(len(xT)): # Перебираем каждое окно определенного класса\n",
        "      xSamples.append(xT[i]) # Добавляем в общий список выборки\n",
        "      ySamples.append(utils.to_categorical(t, nClasses)) # Добавляем соответствующий вектор класса\n",
        "\n",
        "  xSamples = np.array(xSamples)\n",
        "  ySamples = np.array(ySamples)\n",
        "\n",
        "  \n",
        "  return (xSamples, ySamples)"
      ],
      "execution_count": 58,
      "outputs": []
    },
    {
      "cell_type": "code",
      "metadata": {
        "id": "lxR11CjqYAnq"
      },
      "source": [
        "# Установка базовых параметров\n",
        "xLen = 300 # Размер окна (количество слов в векторе)\n",
        "step = 300 # Шаг разбиения текста на векторы"
      ],
      "execution_count": 59,
      "outputs": []
    },
    {
      "cell_type": "code",
      "metadata": {
        "colab": {
          "base_uri": "https://localhost:8080/"
        },
        "id": "lqBPjhWCYByS",
        "outputId": "c815ae46-b5fa-4898-9557-7da28bafce45"
      },
      "source": [
        "# Формируем обучающую и тестовую выборку\n",
        "xTrainId, yTrain = createSetsMultiClasses(trainWordIndexes, xLen, step)\n",
        "xTestId, yTest = createSetsMultiClasses(testWordIndexes, xLen, xLen)\n",
        "print(\"Размерности тренировочного набора\")\n",
        "print(xTrainId.shape)\n",
        "print(yTrain.shape)\n",
        "print()\n",
        "print(\"Размерности тестового набора\")\n",
        "print(xTestId.shape)\n",
        "print(yTest.shape)"
      ],
      "execution_count": 60,
      "outputs": [
        {
          "output_type": "stream",
          "name": "stdout",
          "text": [
            "Размерности тренировочного набора\n",
            "(2509, 300)\n",
            "(2509, 3)\n",
            "\n",
            "Размерности тестового набора\n",
            "(257, 300)\n",
            "(257, 3)\n"
          ]
        }
      ]
    },
    {
      "cell_type": "code",
      "metadata": {
        "colab": {
          "base_uri": "https://localhost:8080/"
        },
        "id": "lPzcIW82YDZu",
        "outputId": "24733c6f-3af9-4fa4-d620-cd67d87d3895"
      },
      "source": [
        "print(xTrainId[0])"
      ],
      "execution_count": 61,
      "outputs": [
        {
          "output_type": "stream",
          "name": "stdout",
          "text": [
            "[  143    49    99   164   136    24   162   145   102     2  6658   106\n",
            "   878    81  3074  2061     5   390    99  1751   666     2  1266  3074\n",
            "   440     5   390   342  1027   747  5887  1785   106  1232     1     2\n",
            "  2205     4  1644     2  1926   477  1362     4  2005     4 10642    20\n",
            "    20    43    90  1751  6659     2  1266  3074   440     5   390   147\n",
            " 13353  4641    11  2767     6     1     1     1     5 15446     4   706\n",
            "   147  1563     1     1  2688     8     1   350    29    65    62  2311\n",
            "    28    10    95    61    43    54    82     1     4   523   120   782\n",
            "   266    25   150   178  1267  4240  2557     8  2897  1785     3     1\n",
            " 10643  5596   234 13354  2108     5 18063     7    49 13355  1006   924\n",
            "     4   706    11  2767     4   817   274 18064 10644    44    46  2612\n",
            "  6660     3     1  1051  2767     6 18065   485   612  8187     7    49\n",
            "     6 18066  1006    19    65   620  1588     2   401     5     1  4439\n",
            "     5   306   221    49     5    20   108  9621  2842  5597   924     4\n",
            "   706     2 18067   148   878     7  8188   925  2160     5 13356 13357\n",
            "  9622     2 18068  6248   926     2  1786  4642     7     2  1973     5\n",
            "  3389     1   925  5888     1   924     4   170   140    26     1    51\n",
            "  3075    89   924     1     4   706     2  1974    30  1854 13358   412\n",
            "     2  4077   925   350     2   486 11865   965   392   106     2   743\n",
            "  3511   540  1787  1249    22     1  3076   956   320     3     1   320\n",
            "   925   350     2   916    44    46   717  1676  1854 13359     7   120\n",
            "   540   209  8189     3   452   707     6 13360  9623     2   486  6249\n",
            "  2898   143    49    99   164   136    24   162   145   102 15447 11866\n",
            "  2689    12  5889   445     5  5091   683    24    21   818    14    49\n",
            "   469  6250   667 11867     5   966  7587    24     2  2161   289     3]\n"
          ]
        }
      ]
    },
    {
      "cell_type": "markdown",
      "metadata": {
        "id": "6SXFGG0BYGmC"
      },
      "source": [
        "*Здесь RAM начинает быстро расходоваться*"
      ]
    },
    {
      "cell_type": "code",
      "metadata": {
        "colab": {
          "base_uri": "https://localhost:8080/"
        },
        "id": "Efe_zvRRYKUV",
        "outputId": "61f6f56b-2efc-43f9-bb50-023c25594747"
      },
      "source": [
        "# Преобразовываем массив векторов в Bag of Words\n",
        "xTrain = tokenizer.sequences_to_matrix(xTrainId.tolist())\n",
        "xTest  = tokenizer.sequences_to_matrix(xTestId.tolist())\n",
        "\n",
        "print(\"Размерность обучайющей выборки\")\n",
        "print(xTrain.shape)\n",
        "print(xTrain[0][0:100]) # Фрагмент набора слов в виде Bag of Words\n",
        "\n",
        "print()\n",
        "\n",
        "print(\"Размерность тестовой выборки\")\n",
        "print(xTest.shape)\n",
        "print(xTest[0][0:100]) # Фрагмент набора слов в виде Bag of Words\n"
      ],
      "execution_count": 62,
      "outputs": [
        {
          "output_type": "stream",
          "name": "stdout",
          "text": [
            "Размерность обучайющей выборки\n",
            "(2509, 20000)\n",
            "[0. 1. 1. 1. 1. 1. 1. 1. 1. 0. 1. 1. 1. 0. 1. 0. 0. 0. 0. 1. 1. 1. 1. 0.\n",
            " 1. 1. 1. 0. 1. 1. 1. 0. 0. 0. 0. 0. 0. 0. 0. 0. 0. 0. 0. 1. 1. 0. 1. 0.\n",
            " 0. 1. 0. 1. 0. 0. 1. 0. 0. 0. 0. 0. 0. 1. 1. 0. 0. 1. 0. 0. 0. 0. 0. 0.\n",
            " 0. 0. 0. 0. 0. 0. 0. 0. 0. 1. 1. 0. 0. 0. 0. 0. 0. 1. 1. 0. 0. 0. 0. 1.\n",
            " 0. 0. 0. 1.]\n",
            "\n",
            "Размерность тестовой выборки\n",
            "(257, 20000)\n",
            "[0. 1. 1. 1. 1. 1. 1. 1. 1. 0. 1. 1. 1. 0. 1. 0. 1. 1. 1. 0. 0. 0. 0. 1.\n",
            " 1. 0. 0. 0. 0. 0. 0. 0. 1. 0. 1. 0. 0. 0. 0. 0. 0. 0. 0. 0. 0. 0. 1. 0.\n",
            " 0. 1. 0. 0. 0. 1. 0. 0. 0. 1. 0. 0. 0. 0. 0. 0. 0. 0. 0. 1. 0. 1. 0. 0.\n",
            " 0. 0. 0. 0. 1. 0. 0. 0. 0. 1. 0. 0. 0. 0. 1. 0. 0. 0. 0. 0. 0. 0. 0. 0.\n",
            " 0. 0. 1. 1.]\n"
          ]
        }
      ]
    },
    {
      "cell_type": "markdown",
      "metadata": {
        "id": "wBpkXv53YO4t"
      },
      "source": [
        "Нейросеть для классификации текстов на базе Bag Of Words"
      ]
    },
    {
      "cell_type": "code",
      "metadata": {
        "id": "6Vu0h0VLYL9l",
        "colab": {
          "base_uri": "https://localhost:8080/"
        },
        "outputId": "162c525f-df90-4139-dacc-714a0cb8bfc1"
      },
      "source": [
        "# Создаём полносвязную сеть\n",
        "model = Sequential()\n",
        "model.add(Dense(512, input_dim=20000, activation=\"relu\"))\n",
        "model.add(Dropout(0.25))\n",
        "model.add(Dense(3, activation='softmax'))\n",
        "\n",
        "model.compile(optimizer='adam', \n",
        "              loss='categorical_crossentropy', \n",
        "              metrics=['accuracy'])\n",
        "\n",
        "model.summary()"
      ],
      "execution_count": 63,
      "outputs": [
        {
          "output_type": "stream",
          "name": "stdout",
          "text": [
            "Model: \"sequential\"\n",
            "_________________________________________________________________\n",
            " Layer (type)                Output Shape              Param #   \n",
            "=================================================================\n",
            " dense (Dense)               (None, 512)               10240512  \n",
            "                                                                 \n",
            " dropout (Dropout)           (None, 512)               0         \n",
            "                                                                 \n",
            " dense_1 (Dense)             (None, 3)                 1539      \n",
            "                                                                 \n",
            "=================================================================\n",
            "Total params: 10,242,051\n",
            "Trainable params: 10,242,051\n",
            "Non-trainable params: 0\n",
            "_________________________________________________________________\n"
          ]
        }
      ]
    },
    {
      "cell_type": "code",
      "metadata": {
        "id": "H29_Dd_rYQeF",
        "colab": {
          "base_uri": "https://localhost:8080/"
        },
        "outputId": "9fd52c28-6a94-4334-d8d0-3ca0ddf4cd03"
      },
      "source": [
        "# Обучаем сеть\n",
        "history = model.fit(xTrain, \n",
        "                    yTrain, \n",
        "                    epochs=40,\n",
        "                    batch_size=64,\n",
        "                    validation_split=0.2)"
      ],
      "execution_count": 64,
      "outputs": [
        {
          "output_type": "stream",
          "name": "stdout",
          "text": [
            "Epoch 1/40\n",
            "32/32 [==============================] - 4s 99ms/step - loss: 0.1047 - accuracy: 0.9567 - val_loss: 5.0573e-05 - val_accuracy: 1.0000\n",
            "Epoch 2/40\n",
            "32/32 [==============================] - 3s 92ms/step - loss: 2.6982e-05 - accuracy: 1.0000 - val_loss: 1.4915e-05 - val_accuracy: 1.0000\n",
            "Epoch 3/40\n",
            "32/32 [==============================] - 3s 90ms/step - loss: 1.0157e-05 - accuracy: 1.0000 - val_loss: 1.3956e-05 - val_accuracy: 1.0000\n",
            "Epoch 4/40\n",
            "32/32 [==============================] - 3s 92ms/step - loss: 7.5635e-06 - accuracy: 1.0000 - val_loss: 1.3459e-05 - val_accuracy: 1.0000\n",
            "Epoch 5/40\n",
            "32/32 [==============================] - 3s 91ms/step - loss: 5.7868e-06 - accuracy: 1.0000 - val_loss: 1.3178e-05 - val_accuracy: 1.0000\n",
            "Epoch 6/40\n",
            "32/32 [==============================] - 3s 90ms/step - loss: 5.4683e-06 - accuracy: 1.0000 - val_loss: 1.2958e-05 - val_accuracy: 1.0000\n",
            "Epoch 7/40\n",
            "32/32 [==============================] - 3s 91ms/step - loss: 4.2845e-06 - accuracy: 1.0000 - val_loss: 1.2772e-05 - val_accuracy: 1.0000\n",
            "Epoch 8/40\n",
            "32/32 [==============================] - 3s 90ms/step - loss: 4.0314e-06 - accuracy: 1.0000 - val_loss: 1.2482e-05 - val_accuracy: 1.0000\n",
            "Epoch 9/40\n",
            "32/32 [==============================] - 3s 89ms/step - loss: 3.5453e-06 - accuracy: 1.0000 - val_loss: 1.2220e-05 - val_accuracy: 1.0000\n",
            "Epoch 10/40\n",
            "32/32 [==============================] - 3s 89ms/step - loss: 3.3478e-06 - accuracy: 1.0000 - val_loss: 1.1909e-05 - val_accuracy: 1.0000\n",
            "Epoch 11/40\n",
            "32/32 [==============================] - 3s 91ms/step - loss: 3.2994e-06 - accuracy: 1.0000 - val_loss: 1.1097e-05 - val_accuracy: 1.0000\n",
            "Epoch 12/40\n",
            "32/32 [==============================] - 3s 91ms/step - loss: 2.9563e-06 - accuracy: 1.0000 - val_loss: 1.0951e-05 - val_accuracy: 1.0000\n",
            "Epoch 13/40\n",
            "32/32 [==============================] - 3s 89ms/step - loss: 2.8294e-06 - accuracy: 1.0000 - val_loss: 1.0738e-05 - val_accuracy: 1.0000\n",
            "Epoch 14/40\n",
            "32/32 [==============================] - 3s 91ms/step - loss: 2.5573e-06 - accuracy: 1.0000 - val_loss: 1.0444e-05 - val_accuracy: 1.0000\n",
            "Epoch 15/40\n",
            "32/32 [==============================] - 3s 90ms/step - loss: 2.2047e-06 - accuracy: 1.0000 - val_loss: 1.0139e-05 - val_accuracy: 1.0000\n",
            "Epoch 16/40\n",
            "32/32 [==============================] - 3s 90ms/step - loss: 2.0006e-06 - accuracy: 1.0000 - val_loss: 1.0004e-05 - val_accuracy: 1.0000\n",
            "Epoch 17/40\n",
            "32/32 [==============================] - 3s 90ms/step - loss: 1.9700e-06 - accuracy: 1.0000 - val_loss: 9.8687e-06 - val_accuracy: 1.0000\n",
            "Epoch 18/40\n",
            "32/32 [==============================] - 3s 91ms/step - loss: 1.7910e-06 - accuracy: 1.0000 - val_loss: 9.7031e-06 - val_accuracy: 1.0000\n",
            "Epoch 19/40\n",
            "32/32 [==============================] - 3s 91ms/step - loss: 1.8221e-06 - accuracy: 1.0000 - val_loss: 9.4443e-06 - val_accuracy: 1.0000\n",
            "Epoch 20/40\n",
            "32/32 [==============================] - 3s 91ms/step - loss: 1.6923e-06 - accuracy: 1.0000 - val_loss: 9.1960e-06 - val_accuracy: 1.0000\n",
            "Epoch 21/40\n",
            "32/32 [==============================] - 3s 92ms/step - loss: 1.6215e-06 - accuracy: 1.0000 - val_loss: 9.0640e-06 - val_accuracy: 1.0000\n",
            "Epoch 22/40\n",
            "32/32 [==============================] - 3s 92ms/step - loss: 1.4541e-06 - accuracy: 1.0000 - val_loss: 8.8356e-06 - val_accuracy: 1.0000\n",
            "Epoch 23/40\n",
            "32/32 [==============================] - 4s 139ms/step - loss: 1.4613e-06 - accuracy: 1.0000 - val_loss: 8.7416e-06 - val_accuracy: 1.0000\n",
            "Epoch 24/40\n",
            "32/32 [==============================] - 3s 92ms/step - loss: 1.3346e-06 - accuracy: 1.0000 - val_loss: 8.5912e-06 - val_accuracy: 1.0000\n",
            "Epoch 25/40\n",
            "32/32 [==============================] - 3s 91ms/step - loss: 1.4173e-06 - accuracy: 1.0000 - val_loss: 8.5411e-06 - val_accuracy: 1.0000\n",
            "Epoch 26/40\n",
            "32/32 [==============================] - 3s 91ms/step - loss: 1.3031e-06 - accuracy: 1.0000 - val_loss: 8.4250e-06 - val_accuracy: 1.0000\n",
            "Epoch 27/40\n",
            "32/32 [==============================] - 3s 90ms/step - loss: 1.1926e-06 - accuracy: 1.0000 - val_loss: 8.2843e-06 - val_accuracy: 1.0000\n",
            "Epoch 28/40\n",
            "32/32 [==============================] - 3s 91ms/step - loss: 1.1209e-06 - accuracy: 1.0000 - val_loss: 8.1747e-06 - val_accuracy: 1.0000\n",
            "Epoch 29/40\n",
            "32/32 [==============================] - 3s 90ms/step - loss: 1.0798e-06 - accuracy: 1.0000 - val_loss: 8.0423e-06 - val_accuracy: 1.0000\n",
            "Epoch 30/40\n",
            "32/32 [==============================] - 3s 90ms/step - loss: 1.0438e-06 - accuracy: 1.0000 - val_loss: 7.9706e-06 - val_accuracy: 1.0000\n",
            "Epoch 31/40\n",
            "32/32 [==============================] - 3s 91ms/step - loss: 1.0385e-06 - accuracy: 1.0000 - val_loss: 7.8481e-06 - val_accuracy: 1.0000\n",
            "Epoch 32/40\n",
            "32/32 [==============================] - 3s 91ms/step - loss: 8.8044e-07 - accuracy: 1.0000 - val_loss: 7.7610e-06 - val_accuracy: 1.0000\n",
            "Epoch 33/40\n",
            "32/32 [==============================] - 3s 90ms/step - loss: 9.0384e-07 - accuracy: 1.0000 - val_loss: 7.6535e-06 - val_accuracy: 1.0000\n",
            "Epoch 34/40\n",
            "32/32 [==============================] - 3s 91ms/step - loss: 8.9291e-07 - accuracy: 1.0000 - val_loss: 7.5614e-06 - val_accuracy: 1.0000\n",
            "Epoch 35/40\n",
            "32/32 [==============================] - 3s 92ms/step - loss: 8.7206e-07 - accuracy: 1.0000 - val_loss: 7.4803e-06 - val_accuracy: 1.0000\n",
            "Epoch 36/40\n",
            "32/32 [==============================] - 3s 91ms/step - loss: 8.8358e-07 - accuracy: 1.0000 - val_loss: 7.3711e-06 - val_accuracy: 1.0000\n",
            "Epoch 37/40\n",
            "32/32 [==============================] - 3s 91ms/step - loss: 8.6012e-07 - accuracy: 1.0000 - val_loss: 7.2677e-06 - val_accuracy: 1.0000\n",
            "Epoch 38/40\n",
            "32/32 [==============================] - 3s 91ms/step - loss: 7.8986e-07 - accuracy: 1.0000 - val_loss: 7.2040e-06 - val_accuracy: 1.0000\n",
            "Epoch 39/40\n",
            "32/32 [==============================] - 3s 92ms/step - loss: 7.8457e-07 - accuracy: 1.0000 - val_loss: 7.1207e-06 - val_accuracy: 1.0000\n",
            "Epoch 40/40\n",
            "32/32 [==============================] - 3s 91ms/step - loss: 7.5742e-07 - accuracy: 1.0000 - val_loss: 7.0244e-06 - val_accuracy: 1.0000\n"
          ]
        }
      ]
    },
    {
      "cell_type": "code",
      "metadata": {
        "id": "f08jiXwyYSyn",
        "colab": {
          "base_uri": "https://localhost:8080/",
          "height": 279
        },
        "outputId": "5c09401f-cecb-4798-ad20-2f288c01923d"
      },
      "source": [
        "# При базовых параметрах =\n",
        "# xLen = 500 # Размер окна (количество слов в векторе)\n",
        "# step = 60 # Шаг разбиения текста на векторы\n",
        "# Результат\n",
        "# Epoch 10/10\n",
        "# 157/157 [==============================] - 14s 90ms/step - loss: 1.4291e-07 - accuracy: 1.0000 - val_loss: 5.7179e-08 - val_accuracy: 1.0000\n",
        "# Когда step < xLen, н.с. обучается значительно дольше\n",
        "# Результат с новыми параметрами остался прежним\n",
        "\n",
        "# Результаты обучения\n",
        "plt.plot(history.history['accuracy'], \n",
        "         label='Доля верных ответов на обучающем наборе')\n",
        "plt.plot(history.history['val_accuracy'], \n",
        "         label='Доля верных ответов на проверочном наборе')\n",
        "plt.xlabel('Эпоха обучения')\n",
        "plt.ylabel('Доля верных ответов')\n",
        "plt.legend()\n",
        "plt.show()"
      ],
      "execution_count": 65,
      "outputs": [
        {
          "output_type": "display_data",
          "data": {
            "image/png": "[encoded data removed]",
            "text/plain": [
              "<Figure size 432x288 with 1 Axes>"
            ]
          },
          "metadata": {
            "needs_background": "light"
          }
        }
      ]
    },
    {
      "cell_type": "markdown",
      "metadata": {
        "id": "BzpvZoSxYUUl"
      },
      "source": [
        "Проверка работы обученной нейросети"
      ]
    },
    {
      "cell_type": "code",
      "metadata": {
        "id": "fCJiG8DzYWzC",
        "colab": {
          "base_uri": "https://localhost:8080/"
        },
        "outputId": "fc54ed8f-8d7d-4ece-98ff-2278b5a5545c"
      },
      "source": [
        "# Проверка точности на тестовой выборке\n",
        "\n",
        "rightAnswer = [0,0,0]\n",
        "totalAnswer = [0,0,0]\n",
        "\n",
        "# Получаем результаты распознавания для каждого класса\n",
        "currPred = model.predict(xTest)\n",
        "# Определяем номер распознанного класса для каждого вектора\n",
        "currOut = np.argmax(currPred, axis=1)\n",
        "# Определяем правильный класс для каждого вектора\n",
        "yOut = np.argmax(yTest, axis=1)\n",
        "\n",
        "print(currPred.shape)\n",
        "print(currOut.shape)\n",
        "print(yOut.shape)\n",
        "print()"
      ],
      "execution_count": 66,
      "outputs": [
        {
          "output_type": "stream",
          "name": "stdout",
          "text": [
            "(257, 3)\n",
            "(257,)\n",
            "(257,)\n",
            "\n"
          ]
        }
      ]
    },
    {
      "cell_type": "code",
      "metadata": {
        "id": "3a4zuDXdYYGe",
        "colab": {
          "base_uri": "https://localhost:8080/"
        },
        "outputId": "04ef75e2-e057-4a9f-92fa-d2e8b2fd1b46"
      },
      "source": [
        "# Подсчёт количества верных ответов\n",
        "for i in range(len(yOut)):\n",
        "  predictA = currOut[i]\n",
        "  rightA   = yOut[i]\n",
        "\n",
        "  totalAnswer[rightA] += 1\n",
        "  if predictA == rightA:\n",
        "    rightAnswer[rightA] += 1\n",
        "\n",
        "print(\"Точность распознавания текстов новостей\")\n",
        "for i in range(labelsNum):\n",
        "  print(\"{:12s}: {:3d} из {:3d} - {:3.2f}%\".format(labels[i], rightAnswer[i], totalAnswer[i], (rightAnswer[i]/totalAnswer[i]*100)))"
      ],
      "execution_count": 67,
      "outputs": [
        {
          "output_type": "stream",
          "name": "stdout",
          "text": [
            "Точность распознавания текстов новостей\n",
            "Политика    :  89 из  89 - 100.00%\n",
            "Спорт       :  81 из  81 - 100.00%\n",
            "Технологии  :  87 из  87 - 100.00%\n"
          ]
        }
      ]
    },
    {
      "cell_type": "code",
      "metadata": {
        "id": "iTX-Ebxprx1E"
      },
      "source": [
        "# При базовых параметрах =\n",
        "# xLen = 500 # Размер окна (количество слов в векторе)\n",
        "# step = 60 # Шаг разбиения текста на векторы\n",
        "# Результат\n",
        "# Точность распознавания текстов новостей\n",
        "# Политика    :  53 из  53 - 100.00%\n",
        "# Спорт       :  48 из  48 - 100.00%\n",
        "# Технологии  :  52 из  52 - 100.00%"
      ],
      "execution_count": 68,
      "outputs": []
    },
    {
      "cell_type": "code",
      "metadata": {
        "id": "whxS47IpsoCD"
      },
      "source": [
        "# Результат с новыми параметрами остался прежним"
      ],
      "execution_count": 69,
      "outputs": []
    }
  ]
}